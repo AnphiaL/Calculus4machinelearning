{
 "cells": [
  {
   "cell_type": "markdown",
   "metadata": {},
   "source": [
    "# Week 1 "
   ]
  },
  {
   "cell_type": "markdown",
   "metadata": {},
   "source": [
    "## Fundamental Theories of Calculus"
   ]
  },
  {
   "cell_type": "markdown",
   "metadata": {},
   "source": [
    "### Functions"
   ]
  },
  {
   "cell_type": "markdown",
   "metadata": {},
   "source": [
    "Selecting a function is the creative essence of science.\n"
   ]
  },
  {
   "cell_type": "markdown",
   "metadata": {},
   "source": [
    "based on the rise over run principle: Gradient at x $\\approx \\frac{f(x+\\Delta{x})-f(x)}{\\Delta{x}}$"
   ]
  },
  {
   "cell_type": "markdown",
   "metadata": {},
   "source": [
    "as $\\Delta{x}$ extremely goes to zero, $f'(x) = \\lim_{\\Delta{x}\\to0}(\\frac{f(\\Delta{x}+x)-f(x)}{\\Delta{}x})$"
   ]
  },
  {
   "cell_type": "markdown",
   "metadata": {},
   "source": [
    "Exercise\n",
    "\n",
    "$f(x) = 5x^2$\n",
    "\n",
    "$f'(x) = \\lim_{\\Delta{x}\\to0}{(\\frac{5(x+\\Delta{x})^2-5x^2}{\\Delta{x}})}=\\lim_{\\Delta{x}\\to0}{(\\frac{5x^2+10x\\Delta{x}+5\\Delta{x}^2-5x^2}{\\Delta{x}})}=\\lim_{\\Delta{x}\\to0}{10x+5\\Delta{x}}$\n",
    "\n",
    "And because $\\Delta{x}$ is going to zero, $\\Delta{x}$ is going to be extremely small. So $f'(x) = 10$"
   ]
  },
  {
   "cell_type": "markdown",
   "metadata": {},
   "source": [
    "**Power Rules**\n",
    "\n",
    "if $f(x) = ax^b$, then $f'(x) = abx^{b-1}$"
   ]
  },
  {
   "cell_type": "markdown",
   "metadata": {},
   "source": [
    "**Sum Rules**\n",
    "\n",
    "$\\frac{d}{dx}(f(x)+g(x)) = \\frac{df(x)}{dx} + \\frac{dg(x)}{dx}$"
   ]
  },
  {
   "cell_type": "markdown",
   "metadata": {},
   "source": [
    "### Different examples&special cases\n",
    "\n",
    "**Case 1**\n",
    "\n",
    "$$f(x) = \\frac{1}{x}$$\n",
    "\n",
    "$$f'(x) = \\lim_{\\Delta{x}\\to0}{(\\frac{\\frac{1}{x+\\Delta{x}}-\\frac{1}{x}}{\\Delta{x}})}=\\lim_{\\Delta{x}\\to0}{(\\frac{\\frac{x}{x(x+\\Delta{x})}-\\frac{x+\\Delta{x}}{x(x+\\Delta{x})}}{\\Delta{x}})}=\\lim_{\\Delta{x}\\to0}{(\\frac{\\frac{-\\Delta{x}}{x(x+\\Delta{x})}}{\\Delta{x}})}=\\lim_{\\Delta{x}\\to0}{(\\frac{-1}{x^2+x\\Delta{x}})}$$\n",
    "\n",
    "and because $\\Delta{x}$ is too small, so:\n",
    "\n",
    "$$\\lim_{\\Delta{x}\\to0}{(\\frac{-1}{x^2+x\\Delta{x}})}=\\frac{-1}{x^2}$$\n",
    "\n",
    "**Case 2**\n",
    "\n",
    "$$f(x) = e^x$$\n",
    "\n",
    "e is named after Leonhard Euler. $e\\approx 2.718$\n",
    "\n",
    "$$f'(x) = e^x$$\n",
    "\n",
    "called **self similarity**\n",
    "\n",
    "**Case 3**\n",
    "\n",
    "Trigonometric Functions: Sin and Cos\n",
    "\n",
    "$$f(x) = sin(x)$$\n",
    "$$f'(x) = cos(x)$$\n",
    "$$f''(x) = -sin(x)$$\n",
    "$$f^{(3)}(x) = -cos(x)$$\n",
    "\n",
    "### Product Rule\n",
    "\n",
    "$$A(x) = f(x)g(x)$$\n",
    "\n",
    "$$A(x+\\Delta{x}) = f(x+\\Delta{x})g(x+\\Delta{x})$$\n",
    "\n",
    "$$\\lim_{\\Delta{x}\\to0}{(\\Delta{A(x)})} = \\lim_{\\Delta{x}\\to0}{(f(x)(g(x+\\Delta{x})-g(x)))+g(x)(f(x+\\Delta{x})-f(x))+(f(x+\\Delta{x})-f(x))(g(x+\\Delta{x})-g(x))}$$\n",
    "\n",
    "because $f(x+\\Delta{x})-f(x))(g(x+\\Delta{x})-g(x)$ is too small so we can ignore it\n",
    "\n",
    "Now we leave its contribution to the area out of our differential expression. And we got the expression for our approximating $\\Delta{x}$:\n",
    "\n",
    "$$\\lim_{\\Delta{x}\\to0}{(\\Delta{A(x)})} = \\lim_{\\Delta{x}\\to0}{(f(x)(g(x+\\Delta{x})-g(x)))+g(x)(f(x+\\Delta{x})-f(x))}$$\n",
    "\n",
    "\n",
    "**Then what is the derivative of A with respect to x?**\n",
    "\n",
    "$$\\lim_{\\Delta{x}\\to0}{(\\frac{\\Delta{A(x)}}{\\Delta{x}})} = \\lim_{\\Delta{x}\\to0}{(\\frac{(f(x)(g(x+\\Delta{x})-g(x)))+g(x)(f(x+\\Delta{x})-f(x))}{\\Delta{x}})}$$\n",
    "\n",
    "Now we rearrange the equasion:\n",
    "\n",
    "$$\\lim_{\\Delta{x}\\to0}{(\\frac{\\Delta{A(x)}}{\\Delta{x}})} = \\lim_{\\Delta{x}\\to0}{(f(x)\\frac{g(x+\\Delta{x})-g(x)}{\\Delta{x}}+g(x)\\frac{(f(x+\\Delta{x})-f(x))}{\\Delta{x}})}$$\n",
    "\n",
    "We can see the first part $\\frac{g(x+\\Delta{x})-g(x)}{\\Delta{x}}$ contains the derivative of g(x), and the second part $\\frac{(f(x+\\Delta{x})-f(x))}{\\Delta{x}})$ contains the derivative of f(x).\n",
    "\n",
    "So **the derivative of A(x)** is:\n",
    "$$A'(x)=f(x)g'(x)+g(x)f'(x)$$\n",
    "\n",
    "And if $$A(x) = f(x)g(x)h(x)$$\n",
    "\n",
    "Then $$A'(x) = f'(x)g(x)h(x) + f(x)g'(x)h(x) + f(x)g(x)h'(x)$$\n",
    "\n",
    "### Chain Rule\n",
    "\n",
    "Imagine we get a function h(p(m))\n",
    "\n",
    "$$h(p)=-\\frac{1}{3}p^2 + p + \\frac{1}{5}$$\n",
    "\n",
    "$$p(m) = e^m-1$$\n",
    "\n",
    "so h(p(m)) would be:\n",
    "\n",
    "$$h(p(m)) = -\\frac{1}{3}(e^m-1)+(e^m-1)^2-\\frac{1}{5}$$\n",
    "\n",
    "so\n",
    "\n",
    "$$\\frac{dh}{dm}=\\frac{1}{3}e^m(5-2e^m)$$\n",
    "\n",
    "The **Chain Rule** is: if $h=h(p)$ and $p=p(m)$, then $\\frac{dh}{dm}=\\frac{dh}{dp}\\times\\frac{dp}{dm}$\n",
    "\n",
    "using the chain rule in our example:\n",
    "\n",
    "$\\frac{dh}{dp}=1-\\frac{2}{3}p$ and $\\frac{dp}{dm}=e^m$, so $\\frac{dh}{dp}\\times\\frac{dp}{dm}=(1-\\frac{2}{3}p)e^m=(1-\\frac{2}{3}(e^m-1))e^m=\\frac{1}{3}e^m(5-2e^m)$\n",
    "\n",
    "**Extension**\n",
    "\n",
    "Imagin we have a function like $$f(h(g(x)))$$\n",
    "\n",
    "Then the derivative would be like: $$\\frac{df}{dh}\\frac{dh}{dg}\\frac{dg}{dx}$$\n",
    "\n",
    "### Practice\n",
    "\n",
    "Imagine we have a function looks like: $$f(x) = \\frac{sin(2x^5+3x)}{e^{7x}} = (sin(2x^5+3x))e^{-7x}$$\n",
    "\n",
    "Now we have $g(x) = sin(2x^5+3x)$ and $h(x) = e^{-7x}$\n",
    "\n",
    "And $g(x) = sin(u)$, $u(x) = 2x^5+3x$ \n",
    "\n",
    "So:\n",
    "\n",
    "$$g'(u) = cos(u)$$\n",
    "\n",
    "$$u'(x) = 10x^4+3$$\n",
    "\n",
    "$$\\frac{dg}{du}\\frac{du}{dx}=cos(u)(10x^4+3)=cos(2x^5+3x)(10x^4+3)$$\n",
    "\n",
    "So:\n",
    "\n",
    "$$g'(x) = cos(2x^5+3x)(10x^4+3)$$\n",
    "\n",
    "Similarly:\n",
    "\n",
    "$$h(v)=e^v$$\n",
    "\n",
    "$$v(x)=-7x$$\n",
    "\n",
    "$$h'(v)=e^v$$\n",
    "\n",
    "$$v'(x)=-7$$\n",
    "\n",
    "By using the chain rule:\n",
    "\n",
    "$$h'(x)=\\frac{dh}{dv}\\frac{dv}{dx}=-7e^v=-7e^{-7x}$$\n",
    "\n",
    "And by using the product rule:\n",
    "\n",
    "$$f'(x)=\\frac{df}{dx}=h\\frac{dg}{dx}+g\\frac{dh}{dx}=e^{-7x}cos(2x^5+3x)(10x^4+3)-sin(2x^5+3x)7e^{-7x}$$\n",
    "\n"
   ]
  }
 ],
 "metadata": {
  "kernelspec": {
   "display_name": "Python 3 (ipykernel)",
   "language": "python",
   "name": "python3"
  },
  "language_info": {
   "codemirror_mode": {
    "name": "ipython",
    "version": 3
   },
   "file_extension": ".py",
   "mimetype": "text/x-python",
   "name": "python",
   "nbconvert_exporter": "python",
   "pygments_lexer": "ipython3",
   "version": "3.8.8"
  }
 },
 "nbformat": 4,
 "nbformat_minor": 4
}
